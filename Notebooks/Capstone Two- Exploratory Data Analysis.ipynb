{
 "cells": [
  {
   "cell_type": "markdown",
   "id": "62a8e008-9744-45ba-87d3-ffa1cbf2d98a",
   "metadata": {},
   "source": [
    "# **Exploratory Data Analysis**"
   ]
  },
  {
   "cell_type": "code",
   "execution_count": 2,
   "id": "05bc0233-8d7d-4d7d-b5b2-48a743119eb6",
   "metadata": {},
   "outputs": [],
   "source": [
    "# Import relevant Libraries and load cleaned csv file\n",
    "import pandas as pd\n",
    "import matplotlib.pyplot as plt\n",
    "import seaborn as sns\n",
    "from sklearn.preprocessing import OneHotEncoder\n",
    "\n",
    "df = pd.read_csv('../data/healthcare-dataset-stroke-data-cleaned.csv')"
   ]
  },
  {
   "cell_type": "code",
   "execution_count": 3,
   "id": "3ffde7cb-0207-437d-8cd1-0bb5c1ea5b14",
   "metadata": {},
   "outputs": [
    {
     "data": {
      "text/html": [
       "<div>\n",
       "<style scoped>\n",
       "    .dataframe tbody tr th:only-of-type {\n",
       "        vertical-align: middle;\n",
       "    }\n",
       "\n",
       "    .dataframe tbody tr th {\n",
       "        vertical-align: top;\n",
       "    }\n",
       "\n",
       "    .dataframe thead th {\n",
       "        text-align: right;\n",
       "    }\n",
       "</style>\n",
       "<table border=\"1\" class=\"dataframe\">\n",
       "  <thead>\n",
       "    <tr style=\"text-align: right;\">\n",
       "      <th></th>\n",
       "      <th>id</th>\n",
       "      <th>gender</th>\n",
       "      <th>age</th>\n",
       "      <th>hypertension</th>\n",
       "      <th>heart_disease</th>\n",
       "      <th>ever_married</th>\n",
       "      <th>work_type</th>\n",
       "      <th>Residence_type</th>\n",
       "      <th>avg_glucose_level</th>\n",
       "      <th>bmi</th>\n",
       "      <th>smoking_status</th>\n",
       "      <th>stroke</th>\n",
       "    </tr>\n",
       "  </thead>\n",
       "  <tbody>\n",
       "    <tr>\n",
       "      <th>0</th>\n",
       "      <td>9046</td>\n",
       "      <td>Male</td>\n",
       "      <td>67.0</td>\n",
       "      <td>0</td>\n",
       "      <td>1</td>\n",
       "      <td>Yes</td>\n",
       "      <td>Private</td>\n",
       "      <td>Urban</td>\n",
       "      <td>228.69</td>\n",
       "      <td>36.6</td>\n",
       "      <td>formerly smoked</td>\n",
       "      <td>1</td>\n",
       "    </tr>\n",
       "    <tr>\n",
       "      <th>1</th>\n",
       "      <td>51676</td>\n",
       "      <td>Female</td>\n",
       "      <td>61.0</td>\n",
       "      <td>0</td>\n",
       "      <td>0</td>\n",
       "      <td>Yes</td>\n",
       "      <td>Self-employed</td>\n",
       "      <td>Rural</td>\n",
       "      <td>202.21</td>\n",
       "      <td>28.1</td>\n",
       "      <td>never smoked</td>\n",
       "      <td>1</td>\n",
       "    </tr>\n",
       "    <tr>\n",
       "      <th>2</th>\n",
       "      <td>31112</td>\n",
       "      <td>Male</td>\n",
       "      <td>80.0</td>\n",
       "      <td>0</td>\n",
       "      <td>1</td>\n",
       "      <td>Yes</td>\n",
       "      <td>Private</td>\n",
       "      <td>Rural</td>\n",
       "      <td>105.92</td>\n",
       "      <td>32.5</td>\n",
       "      <td>never smoked</td>\n",
       "      <td>1</td>\n",
       "    </tr>\n",
       "    <tr>\n",
       "      <th>3</th>\n",
       "      <td>60182</td>\n",
       "      <td>Female</td>\n",
       "      <td>49.0</td>\n",
       "      <td>0</td>\n",
       "      <td>0</td>\n",
       "      <td>Yes</td>\n",
       "      <td>Private</td>\n",
       "      <td>Urban</td>\n",
       "      <td>171.23</td>\n",
       "      <td>34.4</td>\n",
       "      <td>smokes</td>\n",
       "      <td>1</td>\n",
       "    </tr>\n",
       "    <tr>\n",
       "      <th>4</th>\n",
       "      <td>1665</td>\n",
       "      <td>Female</td>\n",
       "      <td>79.0</td>\n",
       "      <td>1</td>\n",
       "      <td>0</td>\n",
       "      <td>Yes</td>\n",
       "      <td>Self-employed</td>\n",
       "      <td>Rural</td>\n",
       "      <td>174.12</td>\n",
       "      <td>24.0</td>\n",
       "      <td>never smoked</td>\n",
       "      <td>1</td>\n",
       "    </tr>\n",
       "  </tbody>\n",
       "</table>\n",
       "</div>"
      ],
      "text/plain": [
       "      id  gender   age  hypertension  heart_disease ever_married  \\\n",
       "0   9046    Male  67.0             0              1          Yes   \n",
       "1  51676  Female  61.0             0              0          Yes   \n",
       "2  31112    Male  80.0             0              1          Yes   \n",
       "3  60182  Female  49.0             0              0          Yes   \n",
       "4   1665  Female  79.0             1              0          Yes   \n",
       "\n",
       "       work_type Residence_type  avg_glucose_level   bmi   smoking_status  \\\n",
       "0        Private          Urban             228.69  36.6  formerly smoked   \n",
       "1  Self-employed          Rural             202.21  28.1     never smoked   \n",
       "2        Private          Rural             105.92  32.5     never smoked   \n",
       "3        Private          Urban             171.23  34.4           smokes   \n",
       "4  Self-employed          Rural             174.12  24.0     never smoked   \n",
       "\n",
       "   stroke  \n",
       "0       1  \n",
       "1       1  \n",
       "2       1  \n",
       "3       1  \n",
       "4       1  "
      ]
     },
     "execution_count": 3,
     "metadata": {},
     "output_type": "execute_result"
    }
   ],
   "source": [
    "# Printing head\n",
    "df.head()"
   ]
  },
  {
   "cell_type": "code",
   "execution_count": 4,
   "id": "c923e7bd-e466-43cd-a3fb-5d049e171079",
   "metadata": {},
   "outputs": [
    {
     "name": "stdout",
     "output_type": "stream",
     "text": [
      "<class 'pandas.core.frame.DataFrame'>\n",
      "RangeIndex: 5110 entries, 0 to 5109\n",
      "Data columns (total 12 columns):\n",
      " #   Column             Non-Null Count  Dtype  \n",
      "---  ------             --------------  -----  \n",
      " 0   id                 5110 non-null   int64  \n",
      " 1   gender             5110 non-null   object \n",
      " 2   age                5110 non-null   float64\n",
      " 3   hypertension       5110 non-null   int64  \n",
      " 4   heart_disease      5110 non-null   int64  \n",
      " 5   ever_married       5110 non-null   object \n",
      " 6   work_type          5110 non-null   object \n",
      " 7   Residence_type     5110 non-null   object \n",
      " 8   avg_glucose_level  5110 non-null   float64\n",
      " 9   bmi                5110 non-null   float64\n",
      " 10  smoking_status     5110 non-null   object \n",
      " 11  stroke             5110 non-null   int64  \n",
      "dtypes: float64(3), int64(4), object(5)\n",
      "memory usage: 479.2+ KB\n"
     ]
    }
   ],
   "source": [
    "# Verifying integrity\n",
    "df.info()"
   ]
  },
  {
   "cell_type": "markdown",
   "id": "95776995-52fe-46b5-bc48-537bd6ed2eb3",
   "metadata": {},
   "source": [
    "## *Total Stroke Events*"
   ]
  },
  {
   "cell_type": "code",
   "execution_count": 6,
   "id": "1475689c-1c78-41d8-a5a9-40fbcfb1b5e2",
   "metadata": {},
   "outputs": [
    {
     "data": {
      "text/plain": [
       "stroke\n",
       "0    4861\n",
       "1     249\n",
       "Name: count, dtype: int64"
      ]
     },
     "execution_count": 6,
     "metadata": {},
     "output_type": "execute_result"
    }
   ],
   "source": [
    "# Calculating total number of strokes\n",
    "strokes = df.stroke.value_counts()\n",
    "strokes"
   ]
  },
  {
   "cell_type": "code",
   "execution_count": 7,
   "id": "302cd0d3-793e-4002-a44a-fe3df471c10a",
   "metadata": {},
   "outputs": [
    {
     "name": "stdout",
     "output_type": "stream",
     "text": [
      "About 4.87% of the 5110 people in our dataset experienced a stroke event.\n"
     ]
    }
   ],
   "source": [
    "print(f\"About{strokes.iloc[1]/df.shape[0]: .2%} of the {df.shape[0]} people in our dataset experienced a stroke event.\")"
   ]
  },
  {
   "cell_type": "markdown",
   "id": "023900e8-db53-447e-9150-90ba726bc8b4",
   "metadata": {},
   "source": [
    "## *Stroke Events by Gender*"
   ]
  },
  {
   "cell_type": "code",
   "execution_count": 9,
   "id": "0a1ec821-c7f5-4103-ac27-611139196278",
   "metadata": {},
   "outputs": [
    {
     "data": {
      "text/plain": [
       "gender\n",
       "Female    141\n",
       "Male      108\n",
       "Other       0\n",
       "Name: stroke, dtype: int64"
      ]
     },
     "execution_count": 9,
     "metadata": {},
     "output_type": "execute_result"
    }
   ],
   "source": [
    "# Calculating total strokes by gender\n",
    "strokes_by_gender = df.groupby('gender')['stroke'].sum()\n",
    "strokes_by_gender"
   ]
  },
  {
   "cell_type": "code",
   "execution_count": 10,
   "id": "3484cb3b-588d-4201-a586-39497ce9aeaf",
   "metadata": {},
   "outputs": [
    {
     "data": {
      "text/plain": [
       "gender\n",
       "Female    2994\n",
       "Male      2115\n",
       "Other        1\n",
       "Name: count, dtype: int64"
      ]
     },
     "execution_count": 10,
     "metadata": {},
     "output_type": "execute_result"
    }
   ],
   "source": [
    "# Gathering total counts per gender\n",
    "gender_counts = df.gender.value_counts()\n",
    "gender_counts"
   ]
  },
  {
   "cell_type": "code",
   "execution_count": 11,
   "id": "87beeee2-b9c9-49fa-b3e0-6711b83ff950",
   "metadata": {},
   "outputs": [
    {
     "name": "stdout",
     "output_type": "stream",
     "text": [
      "Percentage of females that experienced a stroke event:  4.71%\n",
      "Percentage of males that experienced a stroke event:  5.11%\n",
      "Percentage of other genders that experienced a stroke event:  0.00%\n"
     ]
    }
   ],
   "source": [
    "# Calculating stroke percentages per gender\n",
    "female_stroke_percentage = strokes_by_gender.loc['Female'] / gender_counts.loc['Female']\n",
    "male_stroke_percentage = strokes_by_gender.loc['Male'] / gender_counts.loc['Male']\n",
    "other_stroke_percentage = strokes_by_gender.loc['Other'] / gender_counts.loc['Other']\n",
    "\n",
    "print(f\"Percentage of females that experienced a stroke event: {female_stroke_percentage: .2%}\")\n",
    "print(f\"Percentage of males that experienced a stroke event: {male_stroke_percentage: .2%}\")\n",
    "print(f\"Percentage of other genders that experienced a stroke event: {other_stroke_percentage: .2%}\")"
   ]
  },
  {
   "cell_type": "code",
   "execution_count": 12,
   "id": "707d683b-1f9d-417f-b55f-93c1671348fb",
   "metadata": {},
   "outputs": [
    {
     "data": {
      "image/png": "[encoded data removed]",
      "text/plain": [
       "<Figure size 900x500 with 1 Axes>"
      ]
     },
     "metadata": {},
     "output_type": "display_data"
    }
   ],
   "source": [
    "# Verifying results with a visual\n",
    "# Setting figure size\n",
    "fig = plt.figure(figsize=(9, 5))\n",
    "\n",
    "# Creating histogram\n",
    "_ = sns.histplot(\n",
    "    df, \n",
    "    x='gender', \n",
    "    hue='stroke',\n",
    "    multiple='stack',\n",
    "    shrink=0.8\n",
    ")\n",
    "\n",
    "# Creating appropriate labels\n",
    "_ = plt.title('Stroke Events by Gender')\n",
    "_ = plt.legend(['Stroke event occurred', 'No stroke event occurred'])\n",
    "plt.show()"
   ]
  },
  {
   "cell_type": "markdown",
   "id": "46b4ecbe-b983-490a-a2d8-124c851f3fc4",
   "metadata": {},
   "source": [
    "While the absolute frequency for a stroke event in females was higher than in males, the relative frequency was higher in males. This suggests that males are possibly more at risk for experiencing a stroke event than females in our dataset. However since the percentages are fairly close, there is not strong evidence for such a claim."
   ]
  },
  {
   "cell_type": "markdown",
   "id": "b962e23e-6d92-40e9-aff7-0d8ce6c3c22e",
   "metadata": {},
   "source": [
    "## *Stroke Events by Age*"
   ]
  },
  {
   "cell_type": "code",
   "execution_count": 15,
   "id": "3db59f92-9ae2-4712-b9a1-c3f4ee477462",
   "metadata": {},
   "outputs": [
    {
     "data": {
      "text/plain": [
       "age_range\n",
       "(0, 10]       1\n",
       "(10, 20]      1\n",
       "(20, 30]      0\n",
       "(30, 40]      6\n",
       "(40, 50]     15\n",
       "(50, 60]     49\n",
       "(60, 70]     49\n",
       "(70, 80]    105\n",
       "(80, 90]     23\n",
       "Name: stroke, dtype: int64"
      ]
     },
     "execution_count": 15,
     "metadata": {},
     "output_type": "execute_result"
    }
   ],
   "source": [
    "# Creating a copy of original DataFrame\n",
    "df_copy = df.copy(deep=True)\n",
    "\n",
    "# Creating age bins, assigning values to a new column in DataFrame copy, sorting DataFrame copy by age ranges (for better plotting later)\n",
    "age_bins = pd.cut(x=df_copy['age'], bins=[*range(0, 100, 10)])\n",
    "df_copy['age_range'] = age_bins\n",
    "df_copy = df_copy.sort_values('age_range')\n",
    "\n",
    "# Calculating strokes by age range\n",
    "strokes_by_age_range = df_copy.groupby(by='age_range', observed=False)['stroke'].sum()\n",
    "strokes_by_age_range"
   ]
  },
  {
   "cell_type": "code",
   "execution_count": 16,
   "id": "1f78020b-d876-4679-8dfe-f2d63cc04001",
   "metadata": {},
   "outputs": [
    {
     "data": {
      "text/plain": [
       "age_range\n",
       "(0, 10]     507\n",
       "(10, 20]    518\n",
       "(20, 30]    545\n",
       "(30, 40]    674\n",
       "(40, 50]    739\n",
       "(50, 60]    823\n",
       "(60, 70]    594\n",
       "(70, 80]    594\n",
       "(80, 90]    116\n",
       "Name: count, dtype: int64"
      ]
     },
     "execution_count": 16,
     "metadata": {},
     "output_type": "execute_result"
    }
   ],
   "source": [
    "# Gathering total counts per age range\n",
    "age_range_counts = df_copy['age_range'].value_counts(sort=False)\n",
    "age_range_counts"
   ]
  },
  {
   "cell_type": "code",
   "execution_count": 17,
   "id": "dc0eae53-a417-4f4d-a2b9-5a956eaa343e",
   "metadata": {},
   "outputs": [
    {
     "name": "stdout",
     "output_type": "stream",
     "text": [
      "Percentage of (0, 10] year olds that expereinced a stroke:  0.20%\n",
      "Percentage of (10, 20] year olds that expereinced a stroke:  0.19%\n",
      "Percentage of (20, 30] year olds that expereinced a stroke:  0.00%\n",
      "Percentage of (30, 40] year olds that expereinced a stroke:  0.89%\n",
      "Percentage of (40, 50] year olds that expereinced a stroke:  2.03%\n",
      "Percentage of (50, 60] year olds that expereinced a stroke:  5.95%\n",
      "Percentage of (60, 70] year olds that expereinced a stroke:  8.25%\n",
      "Percentage of (70, 80] year olds that expereinced a stroke:  17.68%\n",
      "Percentage of (80, 90] year olds that expereinced a stroke:  19.83%\n"
     ]
    }
   ],
   "source": [
    "# Creating for loop to calculate percentages for each age group\n",
    "for i in range(len(strokes_by_age_range)):\n",
    "    stroke_percentage = strokes_by_age_range.iloc[i] / age_range_counts.iloc[i]\n",
    "    print(f\"Percentage of {strokes_by_age_range.index[i]} year olds that expereinced a stroke: {stroke_percentage: .2%}\")"
   ]
  },
  {
   "cell_type": "code",
   "execution_count": 18,
   "id": "0ccd7ff5-36c1-445b-a58c-0f8afc41804d",
   "metadata": {},
   "outputs": [
    {
     "data": {
      "image/png": "[encoded data removed]",
      "text/plain": [
       "<Figure size 900x500 with 1 Axes>"
      ]
     },
     "metadata": {},
     "output_type": "display_data"
    }
   ],
   "source": [
    "# Verifying results with a visual\n",
    "# Setting figure size\n",
    "fig = plt.figure(figsize=(9, 5))\n",
    "\n",
    "# Creating histogram\n",
    "_ = sns.histplot( \n",
    "    data=df_copy,\n",
    "    x=df_copy['age_range'].astype(str),\n",
    "    hue='stroke',\n",
    "    multiple='stack',\n",
    "    shrink=0.8\n",
    ")\n",
    "\n",
    "# Creating appropriate labels\n",
    "_ = plt.title('Stroke Events by Age Range')\n",
    "_ = plt.legend(['Stroke event occurred', 'No stroke event occurred'])\n",
    "plt.show()"
   ]
  },
  {
   "cell_type": "markdown",
   "id": "acc5b348-37cc-4878-9674-24933ab235db",
   "metadata": {},
   "source": [
    "It seems that an older age is correlated with a higher chance of experiencing a stroke."
   ]
  },
  {
   "cell_type": "markdown",
   "id": "4d212785-d646-40bb-8d96-3af1880b2f28",
   "metadata": {},
   "source": [
    "## *Stroke Events by Hypertension*"
   ]
  },
  {
   "cell_type": "code",
   "execution_count": 21,
   "id": "af4b086d-bfec-4d0f-92d8-d93aa10ccc3c",
   "metadata": {},
   "outputs": [
    {
     "data": {
      "text/plain": [
       "hypertension\n",
       "0    183\n",
       "1     66\n",
       "Name: stroke, dtype: int64"
      ]
     },
     "execution_count": 21,
     "metadata": {},
     "output_type": "execute_result"
    }
   ],
   "source": [
    "# Calculating strokes by hypertension where 0 is False and 1 is True\n",
    "strokes_by_hypertension = df.groupby('hypertension')['stroke'].sum()\n",
    "strokes_by_hypertension"
   ]
  },
  {
   "cell_type": "code",
   "execution_count": 22,
   "id": "b99c81ce-5932-448b-a4f1-0b5cc976f93b",
   "metadata": {},
   "outputs": [
    {
     "data": {
      "text/plain": [
       "hypertension\n",
       "0    4612\n",
       "1     498\n",
       "Name: count, dtype: int64"
      ]
     },
     "execution_count": 22,
     "metadata": {},
     "output_type": "execute_result"
    }
   ],
   "source": [
    "# Gathering total counts for hypertension and non-hypertension individuals\n",
    "hypertension_counts = df.hypertension.value_counts()\n",
    "hypertension_counts"
   ]
  },
  {
   "cell_type": "code",
   "execution_count": 23,
   "id": "e284d100-a0cd-498e-a3ef-7c012b556bbe",
   "metadata": {},
   "outputs": [
    {
     "name": "stdout",
     "output_type": "stream",
     "text": [
      "Percentage of those without hypertension that experienced a stroke event:  3.97%\n",
      "Percentage of those with hypertension that experienced a stroke event:  13.25%\n"
     ]
    }
   ],
   "source": [
    "# Calculating stroke percentages by hypertension\n",
    "non_hypertension_stroke_percentage = strokes_by_hypertension.iloc[0] / hypertension_counts.iloc[0]\n",
    "hypertension_stroke_percentage = strokes_by_hypertension.iloc[1] / hypertension_counts.iloc[1]\n",
    "\n",
    "print(f\"Percentage of those without hypertension that experienced a stroke event: {non_hypertension_stroke_percentage: .2%}\")\n",
    "print(f\"Percentage of those with hypertension that experienced a stroke event: {hypertension_stroke_percentage: .2%}\")"
   ]
  },
  {
   "cell_type": "markdown",
   "id": "d259a56a-564d-43f6-8857-4187dbae1b90",
   "metadata": {},
   "source": [
    "Individuals with hypertension in our dataset saw around a 10% increased chance of a stroke occurring."
   ]
  },
  {
   "cell_type": "markdown",
   "id": "0e9e0a6d-b1c1-45f3-90a5-8f23a6ee8971",
   "metadata": {},
   "source": [
    "## *Stroke Events by Heart Disease*"
   ]
  },
  {
   "cell_type": "code",
   "execution_count": 26,
   "id": "6b02fdf8-6631-4dc7-9b07-6a892257967b",
   "metadata": {},
   "outputs": [
    {
     "data": {
      "text/plain": [
       "heart_disease\n",
       "0    202\n",
       "1     47\n",
       "Name: stroke, dtype: int64"
      ]
     },
     "execution_count": 26,
     "metadata": {},
     "output_type": "execute_result"
    }
   ],
   "source": [
    "# Calculating strokes by heart disease where 0 is False and 1 is True\n",
    "strokes_by_heart_disease = df.groupby('heart_disease')['stroke'].sum()\n",
    "strokes_by_heart_disease"
   ]
  },
  {
   "cell_type": "code",
   "execution_count": 27,
   "id": "68808422-5266-4a61-9ab0-ff7ce1ced6f8",
   "metadata": {},
   "outputs": [
    {
     "data": {
      "text/plain": [
       "heart_disease\n",
       "0    4834\n",
       "1     276\n",
       "Name: count, dtype: int64"
      ]
     },
     "execution_count": 27,
     "metadata": {},
     "output_type": "execute_result"
    }
   ],
   "source": [
    "# Gathering total counts for heart disease and non-heart disease individuals\n",
    "heart_disease_counts = df.heart_disease.value_counts()\n",
    "heart_disease_counts"
   ]
  },
  {
   "cell_type": "code",
   "execution_count": 28,
   "id": "bd5cf3aa-207d-4c89-a142-6e6464fc08d5",
   "metadata": {},
   "outputs": [
    {
     "name": "stdout",
     "output_type": "stream",
     "text": [
      "Percentage of those without heart disease that experienced a stroke event:  4.18%\n",
      "Percentage of those with heart disease that experienced a stroke event:  17.03%\n"
     ]
    }
   ],
   "source": [
    "# Calculating stroke percentages by heart disease\n",
    "non_heart_disease_stroke_percentage = strokes_by_heart_disease.iloc[0] / heart_disease_counts.iloc[0]\n",
    "heart_disease_stroke_percentage = strokes_by_heart_disease.iloc[1] / heart_disease_counts.iloc[1]\n",
    "\n",
    "print(f\"Percentage of those without heart disease that experienced a stroke event: {non_heart_disease_stroke_percentage: .2%}\")\n",
    "print(f\"Percentage of those with heart disease that experienced a stroke event: {heart_disease_stroke_percentage: .2%}\")"
   ]
  },
  {
   "cell_type": "markdown",
   "id": "c0b3a5be-c699-4240-8234-840fe48cef40",
   "metadata": {},
   "source": [
    "Individuals with heart disease in our dataset were about four times more likely to experience a stroke event."
   ]
  },
  {
   "cell_type": "markdown",
   "id": "7b74ba86-eb89-4058-81d6-9aeed978a15c",
   "metadata": {},
   "source": [
    "## *Stroke Events by Marriage History*"
   ]
  },
  {
   "cell_type": "code",
   "execution_count": 31,
   "id": "9ebd08d2-fac4-43b7-b70a-88602c294aac",
   "metadata": {},
   "outputs": [
    {
     "data": {
      "text/plain": [
       "ever_married\n",
       "No      29\n",
       "Yes    220\n",
       "Name: stroke, dtype: int64"
      ]
     },
     "execution_count": 31,
     "metadata": {},
     "output_type": "execute_result"
    }
   ],
   "source": [
    "# Calculating strokes by marriage history\n",
    "strokes_by_ever_married = df.groupby('ever_married')['stroke'].sum()\n",
    "strokes_by_ever_married"
   ]
  },
  {
   "cell_type": "code",
   "execution_count": 32,
   "id": "3d11166b-78bb-4250-9f02-d3d90f526436",
   "metadata": {},
   "outputs": [
    {
     "data": {
      "text/plain": [
       "ever_married\n",
       "No     1757\n",
       "Yes    3353\n",
       "Name: count, dtype: int64"
      ]
     },
     "execution_count": 32,
     "metadata": {},
     "output_type": "execute_result"
    }
   ],
   "source": [
    "# Gathering total counts for individuals with and without a marriage history\n",
    "ever_married_counts = df.ever_married.value_counts(ascending=True)\n",
    "ever_married_counts"
   ]
  },
  {
   "cell_type": "code",
   "execution_count": 33,
   "id": "eb4d2eae-5de2-45aa-849b-2ce8c7f6c1b9",
   "metadata": {},
   "outputs": [
    {
     "name": "stdout",
     "output_type": "stream",
     "text": [
      "Percentage of those without a marriage history that experienced a stroke event:  1.65%\n",
      "Percentage of those with a marriage history that experienced a stroke event:  6.56%\n"
     ]
    }
   ],
   "source": [
    "# Calculating stroke percentages by marriage history\n",
    "no_ever_married_stroke_percentage = strokes_by_ever_married.iloc[0] / ever_married_counts.iloc[0]\n",
    "yes_ever_married_stroke_percentage = strokes_by_ever_married.iloc[1] / ever_married_counts.iloc[1]\n",
    "\n",
    "print(f\"Percentage of those without a marriage history that experienced a stroke event: {no_ever_married_stroke_percentage: .2%}\")\n",
    "print(f\"Percentage of those with a marriage history that experienced a stroke event: {yes_ever_married_stroke_percentage: .2%}\")"
   ]
  },
  {
   "cell_type": "code",
   "execution_count": 34,
   "id": "0f9b3d01-f4a9-4bc6-87a7-ebbe72758c98",
   "metadata": {},
   "outputs": [
    {
     "data": {
      "image/png": "[encoded data removed]",
      "text/plain": [
       "<Figure size 900x500 with 1 Axes>"
      ]
     },
     "metadata": {},
     "output_type": "display_data"
    }
   ],
   "source": [
    "# Verifying results with a visual\n",
    "# Setting figure size\n",
    "fig = plt.figure(figsize=(9, 5))\n",
    "\n",
    "# Creating histogram\n",
    "_ = sns.histplot(\n",
    "    df, \n",
    "    x='ever_married', \n",
    "    hue='stroke',\n",
    "    multiple='stack',\n",
    "    shrink=0.8\n",
    ")\n",
    "\n",
    "# Creating appropriate labels\n",
    "_ = plt.title('Stroke Events by Marriage History')\n",
    "_ = plt.legend(['Stroke event occurred', 'No stroke event occurred'])\n",
    "plt.show()"
   ]
  },
  {
   "cell_type": "markdown",
   "id": "51d0e89e-9a66-4c80-99cb-b55cd5d10320",
   "metadata": {},
   "source": [
    "Individuals with a marriage history see a slightly higher chance of a stroke event occurring."
   ]
  },
  {
   "cell_type": "markdown",
   "id": "76d7cf10-f3e3-440d-96d4-705e4e05b2f9",
   "metadata": {},
   "source": [
    "## *Stroke Event by Work Type*"
   ]
  },
  {
   "cell_type": "code",
   "execution_count": 37,
   "id": "09573a40-4514-4a24-adf2-9a4d8e0c2484",
   "metadata": {},
   "outputs": [
    {
     "data": {
      "text/plain": [
       "work_type\n",
       "Private          149\n",
       "Self-employed     65\n",
       "Govt_job          33\n",
       "children           2\n",
       "Never_worked       0\n",
       "Name: stroke, dtype: int64"
      ]
     },
     "execution_count": 37,
     "metadata": {},
     "output_type": "execute_result"
    }
   ],
   "source": [
    "# Calculating strokes by work type\n",
    "strokes_by_work_type = df.groupby('work_type')['stroke'].sum().sort_values(ascending=False)\n",
    "strokes_by_work_type"
   ]
  },
  {
   "cell_type": "code",
   "execution_count": 38,
   "id": "dbbd6e8a-c63f-4bf6-9567-15b659b7e228",
   "metadata": {},
   "outputs": [
    {
     "data": {
      "text/plain": [
       "work_type\n",
       "Private          2925\n",
       "Self-employed     819\n",
       "Govt_job          657\n",
       "children          687\n",
       "Never_worked       22\n",
       "Name: count, dtype: int64"
      ]
     },
     "execution_count": 38,
     "metadata": {},
     "output_type": "execute_result"
    }
   ],
   "source": [
    "# Gathering total counts for different work types\n",
    "work_type_counts = df.work_type.value_counts(sort=False)\n",
    "work_type_counts"
   ]
  },
  {
   "cell_type": "code",
   "execution_count": 39,
   "id": "db3e69f3-8d2f-4f29-8767-9547859d74fe",
   "metadata": {},
   "outputs": [
    {
     "name": "stdout",
     "output_type": "stream",
     "text": [
      "Percentage of those with work type 'Private' that expereinced a stroke:  5.09%\n",
      "Percentage of those with work type 'Self-employed' that expereinced a stroke:  7.94%\n",
      "Percentage of those with work type 'Govt_job' that expereinced a stroke:  5.02%\n",
      "Percentage of those with work type 'children' that expereinced a stroke:  0.29%\n",
      "Percentage of those with work type 'Never_worked' that expereinced a stroke:  0.00%\n"
     ]
    }
   ],
   "source": [
    "# Creating for loop to calculate percentages for each work type\n",
    "for i in range(len(strokes_by_work_type)):\n",
    "    stroke_percentage = strokes_by_work_type.iloc[i] / work_type_counts.iloc[i]\n",
    "    print(f\"Percentage of those with work type '{strokes_by_work_type.index[i]}' that expereinced a stroke: {stroke_percentage: .2%}\")"
   ]
  },
  {
   "cell_type": "code",
   "execution_count": 40,
   "id": "5416f13a-08f8-4d46-bb51-7bf06d9caae8",
   "metadata": {},
   "outputs": [
    {
     "data": {
      "image/png": "[encoded data removed]",
      "text/plain": [
       "<Figure size 900x500 with 1 Axes>"
      ]
     },
     "metadata": {},
     "output_type": "display_data"
    }
   ],
   "source": [
    "# Verifying results with a visual\n",
    "# Setting figure size\n",
    "fig = plt.figure(figsize=(9, 5))\n",
    "\n",
    "# Creating histogram\n",
    "_ = sns.histplot(\n",
    "    df, \n",
    "    x='work_type', \n",
    "    hue='stroke',\n",
    "    multiple='stack',\n",
    "    shrink=0.8\n",
    ")\n",
    "\n",
    "# Creating appropriate labels\n",
    "_ = plt.title('Stroke Events by Work Type')\n",
    "_ = plt.legend(['Stroke event occurred', 'No stroke event occurred'])\n",
    "plt.show()"
   ]
  },
  {
   "cell_type": "markdown",
   "id": "2d7c20cc-35c0-40de-a806-b51cb9e451b7",
   "metadata": {},
   "source": [
    "Those with work type 'Self-employed' seemed a little more likely to experience a stroke in our dataset, but not by much."
   ]
  },
  {
   "cell_type": "markdown",
   "id": "44f1b8a8-292a-4e09-8f79-d0d649092799",
   "metadata": {},
   "source": [
    "## *Stroke Events by Residence Type*"
   ]
  },
  {
   "cell_type": "code",
   "execution_count": 43,
   "id": "b72f0673-22c9-4276-878c-48dc6dfbc35b",
   "metadata": {},
   "outputs": [
    {
     "data": {
      "text/plain": [
       "Residence_type\n",
       "Urban    135\n",
       "Rural    114\n",
       "Name: stroke, dtype: int64"
      ]
     },
     "execution_count": 43,
     "metadata": {},
     "output_type": "execute_result"
    }
   ],
   "source": [
    "# Calculating strokes by residence type\n",
    "strokes_by_residence_type = df.groupby('Residence_type')['stroke'].sum().sort_values(ascending=False)\n",
    "strokes_by_residence_type"
   ]
  },
  {
   "cell_type": "code",
   "execution_count": 44,
   "id": "cbf1afcb-2988-4c8c-b8e6-42b7f2a0f134",
   "metadata": {},
   "outputs": [
    {
     "data": {
      "text/plain": [
       "Residence_type\n",
       "Urban    2596\n",
       "Rural    2514\n",
       "Name: count, dtype: int64"
      ]
     },
     "execution_count": 44,
     "metadata": {},
     "output_type": "execute_result"
    }
   ],
   "source": [
    "# Gathering total counts for different residence types\n",
    "residence_type_counts = df.Residence_type.value_counts()\n",
    "residence_type_counts"
   ]
  },
  {
   "cell_type": "code",
   "execution_count": 45,
   "id": "2eade3e7-7f67-4e09-ab42-0acfe181f991",
   "metadata": {},
   "outputs": [
    {
     "name": "stdout",
     "output_type": "stream",
     "text": [
      "Percentage of urban residents that experienced a stroke event:  5.20%\n",
      "Percentage of rural residents that experienced a stroke event:  4.53%\n"
     ]
    }
   ],
   "source": [
    "# Calculating stroke percentages by residence type\n",
    "urban_stroke_percentage = strokes_by_residence_type.iloc[0] / residence_type_counts.iloc[0]\n",
    "rural_stroke_percentage = strokes_by_residence_type.iloc[1] / residence_type_counts.iloc[1]\n",
    "\n",
    "print(f\"Percentage of urban residents that experienced a stroke event: {urban_stroke_percentage: .2%}\")\n",
    "print(f\"Percentage of rural residents that experienced a stroke event: {rural_stroke_percentage: .2%}\")"
   ]
  },
  {
   "cell_type": "code",
   "execution_count": 46,
   "id": "082ab359-1b54-47b4-baf0-a1b0d4237b0f",
   "metadata": {},
   "outputs": [
    {
     "data": {
      "image/png": "[encoded data removed]",
      "text/plain": [
       "<Figure size 900x500 with 1 Axes>"
      ]
     },
     "metadata": {},
     "output_type": "display_data"
    }
   ],
   "source": [
    "# Verifying results with a visual\n",
    "# Setting figure size\n",
    "fig = plt.figure(figsize=(9, 5))\n",
    "\n",
    "# Creating histogram\n",
    "_ = sns.histplot(\n",
    "    df, \n",
    "    x='Residence_type', \n",
    "    hue='stroke',\n",
    "    multiple='stack',\n",
    "    shrink=0.8\n",
    ")\n",
    "\n",
    "# Creating appropriate labels\n",
    "_ = plt.title('Stroke Events by Residence Type')\n",
    "_ = plt.legend(['Stroke event occurred', 'No stroke event occurred'])\n",
    "plt.show()"
   ]
  },
  {
   "cell_type": "markdown",
   "id": "c7d9f28d-2572-470d-af56-9dca95dc8866",
   "metadata": {},
   "source": [
    "There does not seem to be evidence to support claims that residence type makes an individual in this dataset more or less likely to have a stroke."
   ]
  },
  {
   "cell_type": "markdown",
   "id": "1d5646be-1a86-451a-b8da-b36bad5acdda",
   "metadata": {},
   "source": [
    "## *Stroke Events by Average Glucose Level*"
   ]
  },
  {
   "cell_type": "code",
   "execution_count": 49,
   "id": "cd60a079-4342-4402-9712-29c97be25b21",
   "metadata": {},
   "outputs": [
    {
     "data": {
      "text/plain": [
       "glucose_range\n",
       "Hypoglycemia     63\n",
       "Excellent        96\n",
       "Hyperglycemia    11\n",
       "Diabetes         79\n",
       "Name: stroke, dtype: int64"
      ]
     },
     "execution_count": 49,
     "metadata": {},
     "output_type": "execute_result"
    }
   ],
   "source": [
    "# Creating a copy of original DataFrame\n",
    "df_copy = df.copy(deep=True)\n",
    "\n",
    "# Creating glucose level bins\n",
    "# Bins were created using the following optimal levels for blood glucose (Mean Blood mg/dL)\n",
    "# 50-80: Hypoglycemia\n",
    "# 80-150: Excellent\n",
    "# 150-180: Hyperglycemia\n",
    "# 180-280: Diabetes\n",
    "glucose_level_bins = pd.cut(x=df_copy['avg_glucose_level'], \n",
    "                            bins=[50, 80, 150, 180, 280], \n",
    "                            labels=['Hypoglycemia', 'Excellent', 'Hyperglycemia', 'Diabetes'])\n",
    "\n",
    "# Assigning values to a new column in DataFrame copy and sorting DataFrame copy by glucose ranges (for better plotting later)\n",
    "df_copy['glucose_range'] = glucose_level_bins\n",
    "df_copy = df_copy.sort_values('glucose_range')\n",
    "\n",
    "# Calculating strokes by glucose range\n",
    "strokes_by_glucose_range = df_copy.groupby(by='glucose_range', observed=False)['stroke'].sum()\n",
    "strokes_by_glucose_range"
   ]
  },
  {
   "cell_type": "code",
   "execution_count": 50,
   "id": "a7abbab7-062a-48a4-b253-b3d4d0a00d2c",
   "metadata": {},
   "outputs": [
    {
     "data": {
      "text/plain": [
       "glucose_range\n",
       "Hypoglycemia     1532\n",
       "Excellent        2848\n",
       "Hyperglycemia     147\n",
       "Diabetes          583\n",
       "Name: count, dtype: int64"
      ]
     },
     "execution_count": 50,
     "metadata": {},
     "output_type": "execute_result"
    }
   ],
   "source": [
    "# Gathering total counts per glucose range\n",
    "glucose_range_counts = df_copy['glucose_range'].value_counts(sort=False)\n",
    "glucose_range_counts"
   ]
  },
  {
   "cell_type": "code",
   "execution_count": 51,
   "id": "5d8516ea-6e65-4062-bc81-187df5ba0a7c",
   "metadata": {},
   "outputs": [
    {
     "name": "stdout",
     "output_type": "stream",
     "text": [
      "Percentage of those with 'Hypoglycemia' type glucose levels that expereinced a stroke:  4.11%\n",
      "Percentage of those with 'Excellent' type glucose levels that expereinced a stroke:  3.37%\n",
      "Percentage of those with 'Hyperglycemia' type glucose levels that expereinced a stroke:  7.48%\n",
      "Percentage of those with 'Diabetes' type glucose levels that expereinced a stroke:  13.55%\n"
     ]
    }
   ],
   "source": [
    "# Creating for loop to calculate percentages for each glucose group\n",
    "for i in range(len(strokes_by_glucose_range)):\n",
    "    stroke_percentage = strokes_by_glucose_range.iloc[i] / glucose_range_counts.iloc[i]\n",
    "    print(f\"Percentage of those with '{strokes_by_glucose_range.index[i]}' type glucose levels that expereinced a stroke: {stroke_percentage: .2%}\")"
   ]
  },
  {
   "cell_type": "code",
   "execution_count": 52,
   "id": "48bb5514-9cb4-429a-902c-70fc97737634",
   "metadata": {},
   "outputs": [
    {
     "data": {
      "image/png": "[encoded data removed]",
      "text/plain": [
       "<Figure size 900x500 with 1 Axes>"
      ]
     },
     "metadata": {},
     "output_type": "display_data"
    }
   ],
   "source": [
    "# Verifying results with a visual\n",
    "# Setting figure size\n",
    "fig = plt.figure(figsize=(9, 5))\n",
    "\n",
    "# Creating histogram\n",
    "_ = sns.histplot( \n",
    "    data=df_copy,\n",
    "    x=df_copy['glucose_range'].astype(str),\n",
    "    hue='stroke',\n",
    "    multiple='stack',\n",
    "    shrink=0.8\n",
    ")\n",
    "\n",
    "# Creating appropriate labels\n",
    "_ = plt.title('Stroke Events by Average Glucose Levels')\n",
    "_ = plt.legend(['Stroke event occurred', 'No stroke event occurred'])\n",
    "plt.show()"
   ]
  },
  {
   "cell_type": "markdown",
   "id": "dd48292d-5574-4f17-a3a9-3f161512172c",
   "metadata": {},
   "source": [
    "Based on our findings, it seems that individuals in our dataset that were not classified as having an excellent average glucose level were more likely to have a stroke. This is especially true for those considered diabetic."
   ]
  },
  {
   "cell_type": "markdown",
   "id": "668dc49e-343f-4114-b08b-562144145d69",
   "metadata": {},
   "source": [
    "## *Stroke Events by BMI*"
   ]
  },
  {
   "cell_type": "code",
   "execution_count": 55,
   "id": "1c2942a3-a2ae-40d4-a210-3d824561c277",
   "metadata": {},
   "outputs": [
    {
     "data": {
      "text/plain": [
       "bmi_range\n",
       "Underweight        1\n",
       "Healthy           37\n",
       "Overweight       115\n",
       "Obese             54\n",
       "Severly Obese     42\n",
       "Name: stroke, dtype: int64"
      ]
     },
     "execution_count": 55,
     "metadata": {},
     "output_type": "execute_result"
    }
   ],
   "source": [
    "# Creating a copy of original DataFrame\n",
    "df_copy = df.copy(deep=True)\n",
    "\n",
    "# Creating bmi bins\n",
    "# Bins were created using the following classifications\n",
    "# <18.5: Underweight\n",
    "# 18.5-25: Healthy\n",
    "# 25-30: Overweight\n",
    "# 30-35: Obese\n",
    "# 35<: Severly Obese\n",
    "bmi_bins = pd.cut(x=df_copy['bmi'], \n",
    "                  bins=[0, 18.5, 25, 30, 35, 100], \n",
    "                  labels=['Underweight', 'Healthy', 'Overweight', 'Obese', 'Severly Obese'])\n",
    "\n",
    "# Assigning values to a new column in DataFrame copy and sorting DataFrame copy by bmi ranges (for better plotting later)\n",
    "df_copy['bmi_range'] = bmi_bins\n",
    "df_copy = df_copy.sort_values('bmi_range')\n",
    "\n",
    "# Calculating strokes by bmi range\n",
    "strokes_by_bmi = df_copy.groupby(by='bmi_range', observed=False)['stroke'].sum()\n",
    "strokes_by_bmi"
   ]
  },
  {
   "cell_type": "code",
   "execution_count": 56,
   "id": "0abfdf47-f4e3-465d-b8e0-51c7d1432512",
   "metadata": {},
   "outputs": [
    {
     "data": {
      "text/plain": [
       "bmi_range\n",
       "Underweight       349\n",
       "Healthy          1258\n",
       "Overweight       1610\n",
       "Obese             985\n",
       "Severly Obese     908\n",
       "Name: count, dtype: int64"
      ]
     },
     "execution_count": 56,
     "metadata": {},
     "output_type": "execute_result"
    }
   ],
   "source": [
    "# Gathering total counts per bmi range\n",
    "bmi_counts = df_copy['bmi_range'].value_counts(sort=False)\n",
    "bmi_counts"
   ]
  },
  {
   "cell_type": "code",
   "execution_count": 57,
   "id": "f3efb12b-9b47-4501-a233-661a8b77caed",
   "metadata": {},
   "outputs": [
    {
     "name": "stdout",
     "output_type": "stream",
     "text": [
      "Percentage of those with 'Underweight' type BMI that expereinced a stroke:  0.29%\n",
      "Percentage of those with 'Healthy' type BMI that expereinced a stroke:  2.94%\n",
      "Percentage of those with 'Overweight' type BMI that expereinced a stroke:  7.14%\n",
      "Percentage of those with 'Obese' type BMI that expereinced a stroke:  5.48%\n",
      "Percentage of those with 'Severly Obese' type BMI that expereinced a stroke:  4.63%\n"
     ]
    }
   ],
   "source": [
    "# Creating for loop to calculate percentages for each bmi group\n",
    "for i in range(len(strokes_by_bmi)):\n",
    "    stroke_percentage = strokes_by_bmi.iloc[i] / bmi_counts.iloc[i]\n",
    "    print(f\"Percentage of those with '{strokes_by_bmi.index[i]}' type BMI that expereinced a stroke: {stroke_percentage: .2%}\")"
   ]
  },
  {
   "cell_type": "code",
   "execution_count": 58,
   "id": "e1a3c4d6-d03d-4dec-acca-0004062f17fa",
   "metadata": {},
   "outputs": [
    {
     "data": {
      "image/png": "[encoded data removed]",
      "text/plain": [
       "<Figure size 900x500 with 1 Axes>"
      ]
     },
     "metadata": {},
     "output_type": "display_data"
    }
   ],
   "source": [
    "# Verifying results with a visual\n",
    "# Setting figure size\n",
    "fig = plt.figure(figsize=(9, 5))\n",
    "\n",
    "# Creating histogram\n",
    "_ = sns.histplot( \n",
    "    data=df_copy,\n",
    "    x=df_copy['bmi_range'].astype(str),\n",
    "    hue='stroke',\n",
    "    multiple='stack',\n",
    "    shrink=0.8\n",
    ")\n",
    "\n",
    "# Creating appropriate labels\n",
    "_ = plt.title('Stroke Events by BMI')\n",
    "_ = plt.legend(['Stroke event occurred', 'No stroke event occurred'])\n",
    "plt.show()"
   ]
  },
  {
   "cell_type": "markdown",
   "id": "db769484-12e7-4c9a-9de9-86ff1bd45d8f",
   "metadata": {},
   "source": [
    "Individuals in our dataset classified as overweight or obese by their BMI results were more likely to experience a stroke even than individuals classified as healthy or underweight by their BMI. However, the percentages do not suggest BMI has a huge influence on a stroke event occurring."
   ]
  },
  {
   "cell_type": "markdown",
   "id": "2d97488b-d1a5-4ecc-a096-b9ca6b334aa5",
   "metadata": {},
   "source": [
    "**Side Note:** Upon examining the minimum and maximum values to calculate ranges for the above bins, I noticed that there were some very high BMIs nearing 100. I am not entirely sure if this is even possible, and my limited medical knowledge does not equip me to properly answer this question. If it is the case that these values are not feasible, then this could certainly have an effect on this analysis although the degree of this effect could be limited."
   ]
  },
  {
   "cell_type": "markdown",
   "id": "f6fec613-4124-4bb3-8133-3b52336a393b",
   "metadata": {},
   "source": [
    "## *Stroke Events by Smoking Status*"
   ]
  },
  {
   "cell_type": "code",
   "execution_count": 62,
   "id": "a13a6b9a-1a9d-481b-bddc-e42df4647c2f",
   "metadata": {},
   "outputs": [
    {
     "data": {
      "text/plain": [
       "smoking_status\n",
       "formerly smoked    70\n",
       "never smoked       90\n",
       "smokes             42\n",
       "Unknown            47\n",
       "Name: stroke, dtype: int64"
      ]
     },
     "execution_count": 62,
     "metadata": {},
     "output_type": "execute_result"
    }
   ],
   "source": [
    "# Calculating stroke by smoking status\n",
    "strokes_by_smoking_status = df.groupby('smoking_status', sort=False)['stroke'].sum()\n",
    "strokes_by_smoking_status"
   ]
  },
  {
   "cell_type": "code",
   "execution_count": 63,
   "id": "d1fe45b5-de41-4a45-a7ae-8a24970fce11",
   "metadata": {},
   "outputs": [
    {
     "data": {
      "text/plain": [
       "smoking_status\n",
       "formerly smoked     885\n",
       "never smoked       1892\n",
       "smokes              789\n",
       "Unknown            1544\n",
       "Name: count, dtype: int64"
      ]
     },
     "execution_count": 63,
     "metadata": {},
     "output_type": "execute_result"
    }
   ],
   "source": [
    "# Gathering total counts for different smoking status types\n",
    "smoking_status_counts = df.smoking_status.value_counts(sort=False)\n",
    "smoking_status_counts"
   ]
  },
  {
   "cell_type": "code",
   "execution_count": 64,
   "id": "f7cfb112-fca4-4565-9415-2b2cdade0e81",
   "metadata": {},
   "outputs": [
    {
     "name": "stdout",
     "output_type": "stream",
     "text": [
      "Percentage of those with smoking status type 'formerly smoked' that expereinced a stroke:  7.91%\n",
      "Percentage of those with smoking status type 'never smoked' that expereinced a stroke:  4.76%\n",
      "Percentage of those with smoking status type 'smokes' that expereinced a stroke:  5.32%\n",
      "Percentage of those with smoking status type 'Unknown' that expereinced a stroke:  3.04%\n"
     ]
    }
   ],
   "source": [
    "# Creating for loop to calculate percentages for each smoking status type\n",
    "for i in range(len(strokes_by_smoking_status)):\n",
    "    stroke_percentage = strokes_by_smoking_status.iloc[i] / smoking_status_counts.iloc[i]\n",
    "    print(f\"Percentage of those with smoking status type '{strokes_by_smoking_status.index[i]}' that expereinced a stroke: {stroke_percentage: .2%}\")"
   ]
  },
  {
   "cell_type": "code",
   "execution_count": 65,
   "id": "f6b231a4-5680-480a-867e-f2b3bb62478c",
   "metadata": {},
   "outputs": [
    {
     "data": {
      "image/png": "[encoded data removed]",
      "text/plain": [
       "<Figure size 900x500 with 1 Axes>"
      ]
     },
     "metadata": {},
     "output_type": "display_data"
    }
   ],
   "source": [
    "# Verifying results with a visual\n",
    "# Setting figure size\n",
    "fig = plt.figure(figsize=(9, 5))\n",
    "\n",
    "# Creating histogram\n",
    "_ = sns.histplot(\n",
    "    df, \n",
    "    x='smoking_status', \n",
    "    hue='stroke',\n",
    "    multiple='stack',\n",
    "    shrink=0.8\n",
    ")\n",
    "\n",
    "# Creating appropriate labels\n",
    "_ = plt.title('Stroke Events by Smoking Status')\n",
    "_ = plt.legend(['Stroke event occurred', 'No stroke event occurred'])\n",
    "plt.show()"
   ]
  },
  {
   "cell_type": "markdown",
   "id": "cd3e97f3-a87a-424c-80eb-19ddd7f6384d",
   "metadata": {},
   "source": [
    "While smokers may have been believed to lead this category, it is actually former smokers in our dataset that have experienced more strokes relatively. Smokers have the second highest risk with non-smokers close behind. This suggests that smoking status may not have a huge impact on whether a stroke event occurs (although we may be unknowingly showcasing response bias)."
   ]
  },
  {
   "cell_type": "markdown",
   "id": "da36019f-f4e7-49e4-b5b5-f307c6f5b301",
   "metadata": {},
   "source": [
    "## *Summary of Frequency Analysis*"
   ]
  },
  {
   "cell_type": "markdown",
   "id": "906aa297-2817-4b56-ae7c-d7100f64b09e",
   "metadata": {},
   "source": [
    "Hypertension, heart disease, older age, high average glucose levels (specifically diabetes), and marriage status seem to be potentially significant predictors of a stroke event occurring. Let's see whether the correlation coefficients paint a similar picture."
   ]
  },
  {
   "cell_type": "markdown",
   "id": "cb5daf20-cee8-45d3-91d3-2c07f58d889b",
   "metadata": {},
   "source": [
    "## *Encoding Data*"
   ]
  },
  {
   "cell_type": "code",
   "execution_count": 70,
   "id": "0d29c3cb-884c-4d98-b673-3df9b25cde25",
   "metadata": {},
   "outputs": [
    {
     "data": {
      "text/html": [
       "<div>\n",
       "<style scoped>\n",
       "    .dataframe tbody tr th:only-of-type {\n",
       "        vertical-align: middle;\n",
       "    }\n",
       "\n",
       "    .dataframe tbody tr th {\n",
       "        vertical-align: top;\n",
       "    }\n",
       "\n",
       "    .dataframe thead th {\n",
       "        text-align: right;\n",
       "    }\n",
       "</style>\n",
       "<table border=\"1\" class=\"dataframe\">\n",
       "  <thead>\n",
       "    <tr style=\"text-align: right;\">\n",
       "      <th></th>\n",
       "      <th>id</th>\n",
       "      <th>age</th>\n",
       "      <th>hypertension</th>\n",
       "      <th>heart_disease</th>\n",
       "      <th>avg_glucose_level</th>\n",
       "      <th>bmi</th>\n",
       "      <th>stroke</th>\n",
       "      <th>gender_Female</th>\n",
       "      <th>gender_Male</th>\n",
       "      <th>gender_Other</th>\n",
       "      <th>...</th>\n",
       "      <th>work_type_Never_worked</th>\n",
       "      <th>work_type_Private</th>\n",
       "      <th>work_type_Self-employed</th>\n",
       "      <th>work_type_children</th>\n",
       "      <th>Residence_type_Rural</th>\n",
       "      <th>Residence_type_Urban</th>\n",
       "      <th>smoking_status_Unknown</th>\n",
       "      <th>smoking_status_formerly smoked</th>\n",
       "      <th>smoking_status_never smoked</th>\n",
       "      <th>smoking_status_smokes</th>\n",
       "    </tr>\n",
       "  </thead>\n",
       "  <tbody>\n",
       "    <tr>\n",
       "      <th>0</th>\n",
       "      <td>9046</td>\n",
       "      <td>67.0</td>\n",
       "      <td>0</td>\n",
       "      <td>1</td>\n",
       "      <td>228.69</td>\n",
       "      <td>36.6</td>\n",
       "      <td>1</td>\n",
       "      <td>0.0</td>\n",
       "      <td>1.0</td>\n",
       "      <td>0.0</td>\n",
       "      <td>...</td>\n",
       "      <td>0.0</td>\n",
       "      <td>1.0</td>\n",
       "      <td>0.0</td>\n",
       "      <td>0.0</td>\n",
       "      <td>0.0</td>\n",
       "      <td>1.0</td>\n",
       "      <td>0.0</td>\n",
       "      <td>1.0</td>\n",
       "      <td>0.0</td>\n",
       "      <td>0.0</td>\n",
       "    </tr>\n",
       "    <tr>\n",
       "      <th>1</th>\n",
       "      <td>51676</td>\n",
       "      <td>61.0</td>\n",
       "      <td>0</td>\n",
       "      <td>0</td>\n",
       "      <td>202.21</td>\n",
       "      <td>28.1</td>\n",
       "      <td>1</td>\n",
       "      <td>1.0</td>\n",
       "      <td>0.0</td>\n",
       "      <td>0.0</td>\n",
       "      <td>...</td>\n",
       "      <td>0.0</td>\n",
       "      <td>0.0</td>\n",
       "      <td>1.0</td>\n",
       "      <td>0.0</td>\n",
       "      <td>1.0</td>\n",
       "      <td>0.0</td>\n",
       "      <td>0.0</td>\n",
       "      <td>0.0</td>\n",
       "      <td>1.0</td>\n",
       "      <td>0.0</td>\n",
       "    </tr>\n",
       "    <tr>\n",
       "      <th>2</th>\n",
       "      <td>31112</td>\n",
       "      <td>80.0</td>\n",
       "      <td>0</td>\n",
       "      <td>1</td>\n",
       "      <td>105.92</td>\n",
       "      <td>32.5</td>\n",
       "      <td>1</td>\n",
       "      <td>0.0</td>\n",
       "      <td>1.0</td>\n",
       "      <td>0.0</td>\n",
       "      <td>...</td>\n",
       "      <td>0.0</td>\n",
       "      <td>1.0</td>\n",
       "      <td>0.0</td>\n",
       "      <td>0.0</td>\n",
       "      <td>1.0</td>\n",
       "      <td>0.0</td>\n",
       "      <td>0.0</td>\n",
       "      <td>0.0</td>\n",
       "      <td>1.0</td>\n",
       "      <td>0.0</td>\n",
       "    </tr>\n",
       "    <tr>\n",
       "      <th>3</th>\n",
       "      <td>60182</td>\n",
       "      <td>49.0</td>\n",
       "      <td>0</td>\n",
       "      <td>0</td>\n",
       "      <td>171.23</td>\n",
       "      <td>34.4</td>\n",
       "      <td>1</td>\n",
       "      <td>1.0</td>\n",
       "      <td>0.0</td>\n",
       "      <td>0.0</td>\n",
       "      <td>...</td>\n",
       "      <td>0.0</td>\n",
       "      <td>1.0</td>\n",
       "      <td>0.0</td>\n",
       "      <td>0.0</td>\n",
       "      <td>0.0</td>\n",
       "      <td>1.0</td>\n",
       "      <td>0.0</td>\n",
       "      <td>0.0</td>\n",
       "      <td>0.0</td>\n",
       "      <td>1.0</td>\n",
       "    </tr>\n",
       "    <tr>\n",
       "      <th>4</th>\n",
       "      <td>1665</td>\n",
       "      <td>79.0</td>\n",
       "      <td>1</td>\n",
       "      <td>0</td>\n",
       "      <td>174.12</td>\n",
       "      <td>24.0</td>\n",
       "      <td>1</td>\n",
       "      <td>1.0</td>\n",
       "      <td>0.0</td>\n",
       "      <td>0.0</td>\n",
       "      <td>...</td>\n",
       "      <td>0.0</td>\n",
       "      <td>0.0</td>\n",
       "      <td>1.0</td>\n",
       "      <td>0.0</td>\n",
       "      <td>1.0</td>\n",
       "      <td>0.0</td>\n",
       "      <td>0.0</td>\n",
       "      <td>0.0</td>\n",
       "      <td>1.0</td>\n",
       "      <td>0.0</td>\n",
       "    </tr>\n",
       "  </tbody>\n",
       "</table>\n",
       "<p>5 rows × 23 columns</p>\n",
       "</div>"
      ],
      "text/plain": [
       "      id   age  hypertension  heart_disease  avg_glucose_level   bmi  stroke  \\\n",
       "0   9046  67.0             0              1             228.69  36.6       1   \n",
       "1  51676  61.0             0              0             202.21  28.1       1   \n",
       "2  31112  80.0             0              1             105.92  32.5       1   \n",
       "3  60182  49.0             0              0             171.23  34.4       1   \n",
       "4   1665  79.0             1              0             174.12  24.0       1   \n",
       "\n",
       "   gender_Female  gender_Male  gender_Other  ...  work_type_Never_worked  \\\n",
       "0            0.0          1.0           0.0  ...                     0.0   \n",
       "1            1.0          0.0           0.0  ...                     0.0   \n",
       "2            0.0          1.0           0.0  ...                     0.0   \n",
       "3            1.0          0.0           0.0  ...                     0.0   \n",
       "4            1.0          0.0           0.0  ...                     0.0   \n",
       "\n",
       "   work_type_Private  work_type_Self-employed  work_type_children  \\\n",
       "0                1.0                      0.0                 0.0   \n",
       "1                0.0                      1.0                 0.0   \n",
       "2                1.0                      0.0                 0.0   \n",
       "3                1.0                      0.0                 0.0   \n",
       "4                0.0                      1.0                 0.0   \n",
       "\n",
       "   Residence_type_Rural  Residence_type_Urban  smoking_status_Unknown  \\\n",
       "0                   0.0                   1.0                     0.0   \n",
       "1                   1.0                   0.0                     0.0   \n",
       "2                   1.0                   0.0                     0.0   \n",
       "3                   0.0                   1.0                     0.0   \n",
       "4                   1.0                   0.0                     0.0   \n",
       "\n",
       "   smoking_status_formerly smoked  smoking_status_never smoked  \\\n",
       "0                             1.0                          0.0   \n",
       "1                             0.0                          1.0   \n",
       "2                             0.0                          1.0   \n",
       "3                             0.0                          0.0   \n",
       "4                             0.0                          1.0   \n",
       "\n",
       "   smoking_status_smokes  \n",
       "0                    0.0  \n",
       "1                    0.0  \n",
       "2                    0.0  \n",
       "3                    1.0  \n",
       "4                    0.0  \n",
       "\n",
       "[5 rows x 23 columns]"
      ]
     },
     "execution_count": 70,
     "metadata": {},
     "output_type": "execute_result"
    }
   ],
   "source": [
    "# Creating copy of original DataFrame\n",
    "df_encoded = df.copy(deep=True)\n",
    "\n",
    "# Inititalizing OneHotEncoder object\n",
    "enc = OneHotEncoder()\n",
    "\n",
    "# Creating definition to encode columns of interest\n",
    "def encode_column(column, df):\n",
    "    df_column = pd.DataFrame(enc.fit_transform(df[[column]]).toarray())\n",
    "    df_column.columns = enc.get_feature_names_out()\n",
    "    return df_column\n",
    "\n",
    "# Joining encoded columns to DataFrame copy\n",
    "df_encoded = df_encoded.join([\n",
    "    encode_column('gender', df),\n",
    "    encode_column('ever_married', df),\n",
    "    encode_column('work_type', df),\n",
    "    encode_column('Residence_type', df),\n",
    "    encode_column('smoking_status', df)\n",
    "])\n",
    "\n",
    "# List of columns to drop\n",
    "columns = ['gender', 'ever_married', 'work_type', 'Residence_type', 'smoking_status']\n",
    "\n",
    "# Dropping columns from DataFrame copy\n",
    "df_encoded.drop(columns, axis=1, inplace=True)\n",
    "\n",
    "# Verifying results\n",
    "df_encoded.head()"
   ]
  },
  {
   "cell_type": "markdown",
   "id": "70d950ca-53fe-4abd-a8fe-37a151c797eb",
   "metadata": {},
   "source": [
    "## *Correlation Coefficients*"
   ]
  },
  {
   "cell_type": "code",
   "execution_count": 72,
   "id": "f5f811e7-d249-41ac-8e94-084106b6cfac",
   "metadata": {},
   "outputs": [
    {
     "data": {
      "text/html": [
       "<div>\n",
       "<style scoped>\n",
       "    .dataframe tbody tr th:only-of-type {\n",
       "        vertical-align: middle;\n",
       "    }\n",
       "\n",
       "    .dataframe tbody tr th {\n",
       "        vertical-align: top;\n",
       "    }\n",
       "\n",
       "    .dataframe thead th {\n",
       "        text-align: right;\n",
       "    }\n",
       "</style>\n",
       "<table border=\"1\" class=\"dataframe\">\n",
       "  <thead>\n",
       "    <tr style=\"text-align: right;\">\n",
       "      <th></th>\n",
       "      <th>stroke</th>\n",
       "    </tr>\n",
       "  </thead>\n",
       "  <tbody>\n",
       "    <tr>\n",
       "      <th>stroke</th>\n",
       "      <td>1.000000</td>\n",
       "    </tr>\n",
       "    <tr>\n",
       "      <th>age</th>\n",
       "      <td>0.245257</td>\n",
       "    </tr>\n",
       "    <tr>\n",
       "      <th>heart_disease</th>\n",
       "      <td>0.134914</td>\n",
       "    </tr>\n",
       "    <tr>\n",
       "      <th>avg_glucose_level</th>\n",
       "      <td>0.131945</td>\n",
       "    </tr>\n",
       "    <tr>\n",
       "      <th>hypertension</th>\n",
       "      <td>0.127904</td>\n",
       "    </tr>\n",
       "    <tr>\n",
       "      <th>ever_married_Yes</th>\n",
       "      <td>0.108340</td>\n",
       "    </tr>\n",
       "  </tbody>\n",
       "</table>\n",
       "</div>"
      ],
      "text/plain": [
       "                     stroke\n",
       "stroke             1.000000\n",
       "age                0.245257\n",
       "heart_disease      0.134914\n",
       "avg_glucose_level  0.131945\n",
       "hypertension       0.127904\n",
       "ever_married_Yes   0.108340"
      ]
     },
     "execution_count": 72,
     "metadata": {},
     "output_type": "execute_result"
    }
   ],
   "source": [
    "# Determining most exterme coefficients (largest)\n",
    "df_encoded.corr().loc[:, ['stroke']].nlargest(6, columns='stroke')"
   ]
  },
  {
   "cell_type": "code",
   "execution_count": 73,
   "id": "2c1886b8-44be-40e1-8eac-4ae38488772d",
   "metadata": {},
   "outputs": [
    {
     "data": {
      "text/html": [
       "<div>\n",
       "<style scoped>\n",
       "    .dataframe tbody tr th:only-of-type {\n",
       "        vertical-align: middle;\n",
       "    }\n",
       "\n",
       "    .dataframe tbody tr th {\n",
       "        vertical-align: top;\n",
       "    }\n",
       "\n",
       "    .dataframe thead th {\n",
       "        text-align: right;\n",
       "    }\n",
       "</style>\n",
       "<table border=\"1\" class=\"dataframe\">\n",
       "  <thead>\n",
       "    <tr style=\"text-align: right;\">\n",
       "      <th></th>\n",
       "      <th>stroke</th>\n",
       "    </tr>\n",
       "  </thead>\n",
       "  <tbody>\n",
       "    <tr>\n",
       "      <th>ever_married_No</th>\n",
       "      <td>-0.108340</td>\n",
       "    </tr>\n",
       "    <tr>\n",
       "      <th>work_type_children</th>\n",
       "      <td>-0.083869</td>\n",
       "    </tr>\n",
       "    <tr>\n",
       "      <th>smoking_status_Unknown</th>\n",
       "      <td>-0.055892</td>\n",
       "    </tr>\n",
       "    <tr>\n",
       "      <th>Residence_type_Rural</th>\n",
       "      <td>-0.015458</td>\n",
       "    </tr>\n",
       "    <tr>\n",
       "      <th>work_type_Never_worked</th>\n",
       "      <td>-0.014882</td>\n",
       "    </tr>\n",
       "  </tbody>\n",
       "</table>\n",
       "</div>"
      ],
      "text/plain": [
       "                          stroke\n",
       "ever_married_No        -0.108340\n",
       "work_type_children     -0.083869\n",
       "smoking_status_Unknown -0.055892\n",
       "Residence_type_Rural   -0.015458\n",
       "work_type_Never_worked -0.014882"
      ]
     },
     "execution_count": 73,
     "metadata": {},
     "output_type": "execute_result"
    }
   ],
   "source": [
    "# Determining most extreme coefficients (smallest)\n",
    "df_encoded.corr().loc[:, ['stroke']].nsmallest(5, columns='stroke')"
   ]
  },
  {
   "cell_type": "code",
   "execution_count": 74,
   "id": "d1c06d8b-dbd8-4594-bce8-7914b4a07bd0",
   "metadata": {},
   "outputs": [
    {
     "data": {
      "image/png": "[encoded data removed]",
      "text/plain": [
       "<Figure size 640x480 with 2 Axes>"
      ]
     },
     "metadata": {},
     "output_type": "display_data"
    }
   ],
   "source": [
    "# Creating heatmap of strongest correlations\n",
    "sns.heatmap(df_encoded.corr().loc[['age', 'heart_disease', 'avg_glucose_level', 'hypertension', 'ever_married_Yes', 'ever_married_No'], ['stroke']],\n",
    "            annot=True);"
   ]
  },
  {
   "cell_type": "markdown",
   "id": "43a72e26-59e3-43df-9ed6-95418a89fcd1",
   "metadata": {},
   "source": [
    "## *Final Thoughts*"
   ]
  },
  {
   "cell_type": "markdown",
   "id": "6a1fb4e7-fe12-4958-9716-2d19374ffa16",
   "metadata": {},
   "source": [
    "As expected, age, heart disease, average glucose level, hypertension, and marriage status display the highest correlation coefficients. This gives us the answer to the question raised at the beginning of this project, but let's see if we can go a step further and create a model capable of predicting a stroke event given health data similar to what we have available."
   ]
  }
 ],
 "metadata": {
  "kernelspec": {
   "display_name": "Python [conda env:base] *",
   "language": "python",
   "name": "conda-base-py"
  },
  "language_info": {
   "codemirror_mode": {
    "name": "ipython",
    "version": 3
   },
   "file_extension": ".py",
   "mimetype": "text/x-python",
   "name": "python",
   "nbconvert_exporter": "python",
   "pygments_lexer": "ipython3",
   "version": "3.11.7"
  }
 },
 "nbformat": 4,
 "nbformat_minor": 5
}
